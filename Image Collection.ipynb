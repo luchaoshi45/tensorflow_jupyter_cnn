{
 "cells": [
  {
   "cell_type": "markdown",
   "metadata": {},
   "source": [
    "# 1.Import Dependencies"
   ]
  },
  {
   "cell_type": "code",
   "execution_count": 1,
   "metadata": {},
   "outputs": [
    {
     "name": "stdout",
     "output_type": "stream",
     "text": [
      "Requirement already satisfied: opencv-python in d:\\a_tfod\\detiction\\tfod\\lib\\site-packages (4.5.5.64)\n",
      "Requirement already satisfied: numpy>=1.14.5 in d:\\a_tfod\\detiction\\tfod\\lib\\site-packages (from opencv-python) (1.22.3)\n"
     ]
    }
   ],
   "source": [
    "!pip install opencv-python"
   ]
  },
  {
   "cell_type": "code",
   "execution_count": 1,
   "metadata": {
    "scrolled": false
   },
   "outputs": [],
   "source": [
    "import cv2 \n",
    "import uuid\n",
    "import os\n",
    "import time"
   ]
  },
  {
   "cell_type": "markdown",
   "metadata": {},
   "source": [
    "# 2.Define Imgaes Labels"
   ]
  },
  {
   "cell_type": "code",
   "execution_count": 2,
   "metadata": {},
   "outputs": [],
   "source": [
    "labels = ['stone','scissors','cloth']\n",
    "img_number = 20"
   ]
  },
  {
   "cell_type": "code",
   "execution_count": 3,
   "metadata": {},
   "outputs": [],
   "source": [
    "IMG_PATH = os.path.join('Tensorflow','workspace','img','collection')"
   ]
  },
  {
   "cell_type": "code",
   "execution_count": 4,
   "metadata": {},
   "outputs": [],
   "source": [
    "# !mkdir {'Tensorflow\\\\workspace\\\\img\\\\collection'} \n",
    "# =\n",
    "# !mkdir Tensorflow\\\\workspace\\\\img\\\\collection\n",
    "if not os.path.exists(IMG_PATH):\n",
    "    if os.name == 'posix':\n",
    "        !mkdir -p {IMG_PATH}\n",
    "    elif os.name == 'nt':\n",
    "        !mkdir {IMG_PATH} \n",
    "for label in labels:\n",
    "    label_path = os.path.join(IMG_PATH,label)\n",
    "    if not os.path.exists(label_path):\n",
    "        !mkdir {label_path}"
   ]
  },
  {
   "cell_type": "markdown",
   "metadata": {},
   "source": [
    "# 3.Get the Img by Carmera"
   ]
  },
  {
   "cell_type": "code",
   "execution_count": 5,
   "metadata": {},
   "outputs": [
    {
     "name": "stdout",
     "output_type": "stream",
     "text": [
      "Collecting images for stone\n",
      "stone num: 1\n",
      "stone num: 2\n",
      "stone num: 3\n",
      "stone num: 4\n",
      "stone num: 5\n",
      "stone num: 6\n",
      "stone num: 7\n",
      "stone num: 8\n",
      "stone num: 9\n",
      "stone num: 10\n",
      "stone num: 11\n",
      "stone num: 12\n",
      "stone num: 13\n",
      "stone num: 14\n",
      "stone num: 15\n",
      "stone num: 16\n",
      "stone num: 17\n",
      "stone num: 18\n",
      "stone num: 19\n",
      "stone num: 20\n",
      "Collecting images for scissors\n",
      "scissors num: 1\n",
      "scissors num: 2\n",
      "scissors num: 3\n",
      "scissors num: 4\n",
      "scissors num: 5\n",
      "scissors num: 6\n",
      "scissors num: 7\n",
      "scissors num: 8\n",
      "scissors num: 9\n",
      "scissors num: 10\n",
      "scissors num: 11\n",
      "scissors num: 12\n",
      "scissors num: 13\n",
      "scissors num: 14\n",
      "scissors num: 15\n",
      "scissors num: 16\n",
      "scissors num: 17\n",
      "scissors num: 18\n",
      "scissors num: 19\n",
      "scissors num: 20\n",
      "Collecting images for cloth\n",
      "cloth num: 1\n",
      "cloth num: 2\n",
      "cloth num: 3\n",
      "cloth num: 4\n",
      "cloth num: 5\n",
      "cloth num: 6\n",
      "cloth num: 7\n",
      "cloth num: 8\n",
      "cloth num: 9\n",
      "cloth num: 10\n",
      "cloth num: 11\n",
      "cloth num: 12\n",
      "cloth num: 13\n",
      "cloth num: 14\n",
      "cloth num: 15\n",
      "cloth num: 16\n",
      "cloth num: 17\n",
      "cloth num: 18\n",
      "cloth num: 19\n",
      "cloth num: 20\n"
     ]
    }
   ],
   "source": [
    "cap = cv2.VideoCapture(0)\n",
    "\n",
    "for label in labels:\n",
    "    print('Collecting images for {}'.format(label))\n",
    "    num = 0\n",
    "    while True:\n",
    "        ret,frame = cap.read()\n",
    "        frame = cv2.flip(frame,1,dst=None) #水平镜像\n",
    "        cv2.imshow('frame',frame) \n",
    "        \n",
    "        if cv2.waitKey(1) & 0xFF == ord(' '):\n",
    "            num=num+1\n",
    "            imgname = os.path.join(IMG_PATH,label,label+'.'+'{}.jpg'.format(str(uuid.uuid1())))\n",
    "            cv2.imwrite(imgname,frame)\n",
    "            print(label+' num:',num)\n",
    "        if(num>=img_number):\n",
    "            break\n",
    "            \n",
    "        if cv2.waitKey(1) & 0xFF == ord('q'):\n",
    "            break \n",
    "        \n",
    "cap.release()\n",
    "cv2.destroyAllWindows()"
   ]
  },
  {
   "cell_type": "markdown",
   "metadata": {},
   "source": [
    "# 4.Labeling use github tool labelimg"
   ]
  },
  {
   "cell_type": "code",
   "execution_count": 15,
   "metadata": {},
   "outputs": [
    {
     "name": "stdout",
     "output_type": "stream",
     "text": [
      "Collecting pyqt5\n",
      "  Using cached PyQt5-5.15.6-cp36-abi3-win_amd64.whl (6.7 MB)\n",
      "Collecting lxml\n",
      "  Using cached lxml-4.8.0-cp310-cp310-win_amd64.whl (3.6 MB)\n",
      "Collecting PyQt5-sip<13,>=12.8\n",
      "  Using cached PyQt5_sip-12.9.1-cp310-cp310-win_amd64.whl (77 kB)\n",
      "Collecting PyQt5-Qt5>=5.15.2\n",
      "  Using cached PyQt5_Qt5-5.15.2-py3-none-win_amd64.whl (50.1 MB)\n",
      "Installing collected packages: PyQt5-Qt5, PyQt5-sip, lxml, pyqt5\n",
      "Successfully installed PyQt5-Qt5-5.15.2 PyQt5-sip-12.9.1 lxml-4.8.0 pyqt5-5.15.6\n"
     ]
    }
   ],
   "source": [
    "!pip install --upgrade pyqt5 lxml"
   ]
  },
  {
   "cell_type": "code",
   "execution_count": 6,
   "metadata": {},
   "outputs": [],
   "source": [
    "LABELIMG_PATH = os.path.join('Tensorflow','labelimg')"
   ]
  },
  {
   "cell_type": "code",
   "execution_count": 7,
   "metadata": {},
   "outputs": [],
   "source": [
    "if not os.path.exists(LABELIMG_PATH):\n",
    "    !mkdir {LABELIMG_PATH}\n",
    "    !git clone https://github.com/tzutalin/labelImg {LABELIMG_PATH}"
   ]
  },
  {
   "cell_type": "code",
   "execution_count": 13,
   "metadata": {},
   "outputs": [
    {
     "name": "stderr",
     "output_type": "stream",
     "text": [
      "Cloning into 'Tensorflow\\labelimg'...\n"
     ]
    }
   ],
   "source": [
    "    !git clone https://github.com/tzutalin/labelImg {LABELIMG_PATH}"
   ]
  },
  {
   "cell_type": "code",
   "execution_count": 8,
   "metadata": {},
   "outputs": [],
   "source": [
    "if os.name == 'posix':\n",
    "    !make qt5py3\n",
    "if os.name =='nt':\n",
    "    !cd {LABELIMG_PATH} && pyrcc5 -o libs/resources.py resources.qrc"
   ]
  },
  {
   "cell_type": "code",
   "execution_count": 12,
   "metadata": {},
   "outputs": [],
   "source": [
    "TRAIN_PATH = os.path.join('Tensorflow', 'workspace', 'img', 'train')\n",
    "TEST_PATH = os.path.join('Tensorflow', 'workspace', 'img', 'test')\n",
    "if not os.path.exists(TRAIN_PATH):\n",
    "    if os.name == 'posix':\n",
    "        !mkdir -p {TRAIN_PATH}\n",
    "    elif os.name == 'nt':\n",
    "        !mkdir {TRAIN_PATH} \n",
    "if not os.path.exists(TEST_PATH):\n",
    "    if os.name == 'posix':\n",
    "        !mkdir -p {TEST_PATH}\n",
    "    elif os.name == 'nt':\n",
    "        !mkdir {TEST_PATH} "
   ]
  },
  {
   "cell_type": "code",
   "execution_count": 9,
   "metadata": {},
   "outputs": [
    {
     "name": "stdout",
     "output_type": "stream",
     "text": [
      "Image:D:\\A_TFOD\\Detiction\\Tensorflow\\workspace\\img\\collection\\stone\\stone.5b4489ba-a850-11ec-b935-005056c00008.jpg -> Annotation:D:/A_TFOD/Detiction/Tensorflow/workspace/img/collection/stone/stone.5b4489ba-a850-11ec-b935-005056c00008.xml\n",
      "Image:D:\\A_TFOD\\Detiction\\Tensorflow\\workspace\\img\\collection\\stone\\stone.5e4f0fc6-a850-11ec-a61e-005056c00008.jpg -> Annotation:D:/A_TFOD/Detiction/Tensorflow/workspace/img/collection/stone/stone.5e4f0fc6-a850-11ec-a61e-005056c00008.xml\n",
      "Image:D:\\A_TFOD\\Detiction\\Tensorflow\\workspace\\img\\collection\\stone\\stone.6f359b80-a850-11ec-bd3c-005056c00008.jpg -> Annotation:D:/A_TFOD/Detiction/Tensorflow/workspace/img/collection/stone/stone.6f359b80-a850-11ec-bd3c-005056c00008.xml\n",
      "Image:D:\\A_TFOD\\Detiction\\Tensorflow\\workspace\\img\\collection\\stone\\stone.6ffdbe06-a850-11ec-b495-005056c00008.jpg -> Annotation:D:/A_TFOD/Detiction/Tensorflow/workspace/img/collection/stone/stone.6ffdbe06-a850-11ec-b495-005056c00008.xml\n",
      "Image:D:\\A_TFOD\\Detiction\\Tensorflow\\workspace\\img\\collection\\stone\\stone.7bbfda93-a850-11ec-ad38-005056c00008.jpg -> Annotation:D:/A_TFOD/Detiction/Tensorflow/workspace/img/collection/stone/stone.7bbfda93-a850-11ec-ad38-005056c00008.xml\n",
      "Image:D:\\A_TFOD\\Detiction\\Tensorflow\\workspace\\img\\collection\\stone\\stone.8b4654a8-a850-11ec-84c9-005056c00008.jpg -> Annotation:D:/A_TFOD/Detiction/Tensorflow/workspace/img/collection/stone/stone.8b4654a8-a850-11ec-84c9-005056c00008.xml\n",
      "Image:D:\\A_TFOD\\Detiction\\Tensorflow\\workspace\\img\\collection\\stone\\stone.8e70e139-a850-11ec-9d48-005056c00008.jpg -> Annotation:D:/A_TFOD/Detiction/Tensorflow/workspace/img/collection/stone/stone.8e70e139-a850-11ec-9d48-005056c00008.xml\n",
      "Image:D:\\A_TFOD\\Detiction\\Tensorflow\\workspace\\img\\collection\\stone\\stone.60d1605d-a850-11ec-b89a-005056c00008.jpg -> Annotation:D:/A_TFOD/Detiction/Tensorflow/workspace/img/collection/stone/stone.60d1605d-a850-11ec-b89a-005056c00008.xml\n",
      "Image:D:\\A_TFOD\\Detiction\\Tensorflow\\workspace\\img\\collection\\stone\\stone.73df2d76-a850-11ec-b29a-005056c00008.jpg -> Annotation:D:/A_TFOD/Detiction/Tensorflow/workspace/img/collection/stone/stone.73df2d76-a850-11ec-b29a-005056c00008.xml\n",
      "Image:D:\\A_TFOD\\Detiction\\Tensorflow\\workspace\\img\\collection\\stone\\stone.77a48e42-a850-11ec-a206-005056c00008.jpg -> Annotation:D:/A_TFOD/Detiction/Tensorflow/workspace/img/collection/stone/stone.77a48e42-a850-11ec-a206-005056c00008.xml\n",
      "Image:D:\\A_TFOD\\Detiction\\Tensorflow\\workspace\\img\\collection\\stone\\stone.80d2b77d-a850-11ec-a668-005056c00008.jpg -> Annotation:D:/A_TFOD/Detiction/Tensorflow/workspace/img/collection/stone/stone.80d2b77d-a850-11ec-a668-005056c00008.xml\n",
      "Image:D:\\A_TFOD\\Detiction\\Tensorflow\\workspace\\img\\collection\\stone\\stone.87b0b217-a850-11ec-8842-005056c00008.jpg -> Annotation:D:/A_TFOD/Detiction/Tensorflow/workspace/img/collection/stone/stone.87b0b217-a850-11ec-8842-005056c00008.xml\n",
      "Image:D:\\A_TFOD\\Detiction\\Tensorflow\\workspace\\img\\collection\\stone\\stone.580b468b-a850-11ec-aa55-005056c00008.jpg -> Annotation:D:/A_TFOD/Detiction/Tensorflow/workspace/img/collection/stone/stone.580b468b-a850-11ec-aa55-005056c00008.xml\n",
      "Image:D:\\A_TFOD\\Detiction\\Tensorflow\\workspace\\img\\collection\\stone\\stone.691fac78-a850-11ec-b5df-005056c00008.jpg -> Annotation:D:/A_TFOD/Detiction/Tensorflow/workspace/img/collection/stone/stone.691fac78-a850-11ec-b5df-005056c00008.xml\n",
      "Image:D:\\A_TFOD\\Detiction\\Tensorflow\\workspace\\img\\collection\\stone\\stone.842b7fa2-a850-11ec-8933-005056c00008.jpg -> Annotation:D:/A_TFOD/Detiction/Tensorflow/workspace/img/collection/stone/stone.842b7fa2-a850-11ec-8933-005056c00008.xml\n",
      "Image:D:\\A_TFOD\\Detiction\\Tensorflow\\workspace\\img\\collection\\stone\\stone.862a0b3b-a850-11ec-ac90-005056c00008.jpg -> Annotation:D:/A_TFOD/Detiction/Tensorflow/workspace/img/collection/stone/stone.862a0b3b-a850-11ec-ac90-005056c00008.xml\n",
      "Cancel creation.\n",
      "Image:D:\\A_TFOD\\Detiction\\Tensorflow\\workspace\\img\\collection\\stone\\stone.902b04cd-a850-11ec-b904-005056c00008.jpg -> Annotation:D:/A_TFOD/Detiction/Tensorflow/workspace/img/collection/stone/stone.902b04cd-a850-11ec-b904-005056c00008.xml\n",
      "Image:D:\\A_TFOD\\Detiction\\Tensorflow\\workspace\\img\\collection\\stone\\stone.6623b4b7-a850-11ec-91a7-005056c00008.jpg -> Annotation:D:/A_TFOD/Detiction/Tensorflow/workspace/img/collection/stone/stone.6623b4b7-a850-11ec-91a7-005056c00008.xml\n",
      "Image:D:\\A_TFOD\\Detiction\\Tensorflow\\workspace\\img\\collection\\stone\\stone.762461bf-a850-11ec-bb02-005056c00008.jpg -> Annotation:D:/A_TFOD/Detiction/Tensorflow/workspace/img/collection/stone/stone.762461bf-a850-11ec-bb02-005056c00008.xml\n",
      "Image:D:\\A_TFOD\\Detiction\\Tensorflow\\workspace\\img\\collection\\stone\\stone.82323824-a850-11ec-a48e-005056c00008.jpg -> Annotation:D:/A_TFOD/Detiction/Tensorflow/workspace/img/collection/stone/stone.82323824-a850-11ec-a48e-005056c00008.xml\n",
      "Image:D:\\A_TFOD\\Detiction\\Tensorflow\\workspace\\img\\collection\\cloth\\cloth.d54f0f4e-a850-11ec-8f3e-005056c00008.jpg -> Annotation:D:/A_TFOD/Detiction/Tensorflow/workspace/img/collection/cloth/cloth.d54f0f4e-a850-11ec-8f3e-005056c00008.xml\n",
      "Image:D:\\A_TFOD\\Detiction\\Tensorflow\\workspace\\img\\collection\\cloth\\cloth.d86b0704-a850-11ec-9d19-005056c00008.jpg -> Annotation:D:/A_TFOD/Detiction/Tensorflow/workspace/img/collection/cloth/cloth.d86b0704-a850-11ec-9d19-005056c00008.xml\n",
      "Image:D:\\A_TFOD\\Detiction\\Tensorflow\\workspace\\img\\collection\\cloth\\cloth.d443eb11-a850-11ec-a4f9-005056c00008.jpg -> Annotation:D:/A_TFOD/Detiction/Tensorflow/workspace/img/collection/cloth/cloth.d443eb11-a850-11ec-a4f9-005056c00008.xml\n",
      "Image:D:\\A_TFOD\\Detiction\\Tensorflow\\workspace\\img\\collection\\cloth\\cloth.d785a5eb-a850-11ec-b0c9-005056c00008.jpg -> Annotation:D:/A_TFOD/Detiction/Tensorflow/workspace/img/collection/cloth/cloth.d785a5eb-a850-11ec-b0c9-005056c00008.xml\n",
      "Image:D:\\A_TFOD\\Detiction\\Tensorflow\\workspace\\img\\collection\\cloth\\cloth.d9134b02-a850-11ec-adbd-005056c00008.jpg -> Annotation:D:/A_TFOD/Detiction/Tensorflow/workspace/img/collection/cloth/cloth.d9134b02-a850-11ec-adbd-005056c00008.xml\n",
      "Image:D:\\A_TFOD\\Detiction\\Tensorflow\\workspace\\img\\collection\\cloth\\cloth.d2532872-a850-11ec-89e8-005056c00008.jpg -> Annotation:D:/A_TFOD/Detiction/Tensorflow/workspace/img/collection/cloth/cloth.d2532872-a850-11ec-89e8-005056c00008.xml\n",
      "Image:D:\\A_TFOD\\Detiction\\Tensorflow\\workspace\\img\\collection\\cloth\\cloth.de17bef7-a850-11ec-9a29-005056c00008.jpg -> Annotation:D:/A_TFOD/Detiction/Tensorflow/workspace/img/collection/cloth/cloth.de17bef7-a850-11ec-9a29-005056c00008.xml\n",
      "Image:D:\\A_TFOD\\Detiction\\Tensorflow\\workspace\\img\\collection\\cloth\\cloth.df3a9d10-a850-11ec-a685-005056c00008.jpg -> Annotation:D:/A_TFOD/Detiction/Tensorflow/workspace/img/collection/cloth/cloth.df3a9d10-a850-11ec-a685-005056c00008.xml\n",
      "Image:D:\\A_TFOD\\Detiction\\Tensorflow\\workspace\\img\\collection\\cloth\\cloth.e6af5f64-a850-11ec-8f80-005056c00008.jpg -> Annotation:D:/A_TFOD/Detiction/Tensorflow/workspace/img/collection/cloth/cloth.e6af5f64-a850-11ec-8f80-005056c00008.xml\n",
      "Image:D:\\A_TFOD\\Detiction\\Tensorflow\\workspace\\img\\collection\\cloth\\cloth.e06b9a9c-a850-11ec-8958-005056c00008.jpg -> Annotation:D:/A_TFOD/Detiction/Tensorflow/workspace/img/collection/cloth/cloth.e06b9a9c-a850-11ec-8958-005056c00008.xml\n",
      "Image:D:\\A_TFOD\\Detiction\\Tensorflow\\workspace\\img\\collection\\cloth\\cloth.e7e2ba61-a850-11ec-a004-005056c00008.jpg -> Annotation:D:/A_TFOD/Detiction/Tensorflow/workspace/img/collection/cloth/cloth.e7e2ba61-a850-11ec-a004-005056c00008.xml\n",
      "Image:D:\\A_TFOD\\Detiction\\Tensorflow\\workspace\\img\\collection\\cloth\\cloth.e9f95852-a850-11ec-8292-005056c00008.jpg -> Annotation:D:/A_TFOD/Detiction/Tensorflow/workspace/img/collection/cloth/cloth.e9f95852-a850-11ec-8292-005056c00008.xml\n",
      "Image:D:\\A_TFOD\\Detiction\\Tensorflow\\workspace\\img\\collection\\cloth\\cloth.e91467a7-a850-11ec-b9b5-005056c00008.jpg -> Annotation:D:/A_TFOD/Detiction/Tensorflow/workspace/img/collection/cloth/cloth.e91467a7-a850-11ec-b9b5-005056c00008.xml\n",
      "Image:D:\\A_TFOD\\Detiction\\Tensorflow\\workspace\\img\\collection\\cloth\\cloth.eadf3b18-a850-11ec-bbdd-005056c00008.jpg -> Annotation:D:/A_TFOD/Detiction/Tensorflow/workspace/img/collection/cloth/cloth.eadf3b18-a850-11ec-bbdd-005056c00008.xml\n",
      "Image:D:\\A_TFOD\\Detiction\\Tensorflow\\workspace\\img\\collection\\cloth\\cloth.f58f6746-a850-11ec-ae94-005056c00008.jpg -> Annotation:D:/A_TFOD/Detiction/Tensorflow/workspace/img/collection/cloth/cloth.f58f6746-a850-11ec-ae94-005056c00008.xml\n",
      "Image:D:\\A_TFOD\\Detiction\\Tensorflow\\workspace\\img\\collection\\cloth\\cloth.f9320c9a-a850-11ec-8746-005056c00008.jpg -> Annotation:D:/A_TFOD/Detiction/Tensorflow/workspace/img/collection/cloth/cloth.f9320c9a-a850-11ec-8746-005056c00008.xml\n",
      "Image:D:\\A_TFOD\\Detiction\\Tensorflow\\workspace\\img\\collection\\cloth\\cloth.f36846cd-a850-11ec-a58c-005056c00008.jpg -> Annotation:D:/A_TFOD/Detiction/Tensorflow/workspace/img/collection/cloth/cloth.f36846cd-a850-11ec-a58c-005056c00008.xml\n",
      "Image:D:\\A_TFOD\\Detiction\\Tensorflow\\workspace\\img\\collection\\cloth\\cloth.f131878b-a850-11ec-a37a-005056c00008.jpg -> Annotation:D:/A_TFOD/Detiction/Tensorflow/workspace/img/collection/cloth/cloth.f131878b-a850-11ec-a37a-005056c00008.xml\n",
      "Image:D:\\A_TFOD\\Detiction\\Tensorflow\\workspace\\img\\collection\\cloth\\cloth.fb59baf5-a850-11ec-93cc-005056c00008.jpg -> Annotation:D:/A_TFOD/Detiction/Tensorflow/workspace/img/collection/cloth/cloth.fb59baf5-a850-11ec-93cc-005056c00008.xml\n",
      "Image:D:\\A_TFOD\\Detiction\\Tensorflow\\workspace\\img\\collection\\cloth\\cloth.fd0511d2-a850-11ec-968d-005056c00008.jpg -> Annotation:D:/A_TFOD/Detiction/Tensorflow/workspace/img/collection/cloth/cloth.fd0511d2-a850-11ec-968d-005056c00008.xml\n",
      "Image:D:\\A_TFOD\\Detiction\\Tensorflow\\workspace\\img\\collection\\scissors\\scissors.9d8c2a75-a850-11ec-a2a1-005056c00008.jpg -> Annotation:D:/A_TFOD/Detiction/Tensorflow/workspace/img/collection/scissors/scissors.9d8c2a75-a850-11ec-a2a1-005056c00008.xml\n",
      "Image:D:\\A_TFOD\\Detiction\\Tensorflow\\workspace\\img\\collection\\scissors\\scissors.97dfd021-a850-11ec-8df0-005056c00008.jpg -> Annotation:D:/A_TFOD/Detiction/Tensorflow/workspace/img/collection/scissors/scissors.97dfd021-a850-11ec-8df0-005056c00008.xml\n",
      "Image:D:\\A_TFOD\\Detiction\\Tensorflow\\workspace\\img\\collection\\scissors\\scissors.9605e96c-a850-11ec-9a90-005056c00008.jpg -> Annotation:D:/A_TFOD/Detiction/Tensorflow/workspace/img/collection/scissors/scissors.9605e96c-a850-11ec-9a90-005056c00008.xml\n",
      "Image:D:\\A_TFOD\\Detiction\\Tensorflow\\workspace\\img\\collection\\scissors\\scissors.a0b6e3fc-a850-11ec-bb90-005056c00008.jpg -> Annotation:D:/A_TFOD/Detiction/Tensorflow/workspace/img/collection/scissors/scissors.a0b6e3fc-a850-11ec-bb90-005056c00008.xml\n",
      "Image:D:\\A_TFOD\\Detiction\\Tensorflow\\workspace\\img\\collection\\scissors\\scissors.a3c76898-a850-11ec-ae88-005056c00008.jpg -> Annotation:D:/A_TFOD/Detiction/Tensorflow/workspace/img/collection/scissors/scissors.a3c76898-a850-11ec-ae88-005056c00008.xml\n",
      "Image:D:\\A_TFOD\\Detiction\\Tensorflow\\workspace\\img\\collection\\scissors\\scissors.a77a654f-a850-11ec-ae01-005056c00008.jpg -> Annotation:D:/A_TFOD/Detiction/Tensorflow/workspace/img/collection/scissors/scissors.a77a654f-a850-11ec-ae01-005056c00008.xml\n",
      "Image:D:\\A_TFOD\\Detiction\\Tensorflow\\workspace\\img\\collection\\scissors\\scissors.a98b87b0-a850-11ec-ac71-005056c00008.jpg -> Annotation:D:/A_TFOD/Detiction/Tensorflow/workspace/img/collection/scissors/scissors.a98b87b0-a850-11ec-ac71-005056c00008.xml\n",
      "Image:D:\\A_TFOD\\Detiction\\Tensorflow\\workspace\\img\\collection\\scissors\\scissors.a253c5df-a850-11ec-8d24-005056c00008.jpg -> Annotation:D:/A_TFOD/Detiction/Tensorflow/workspace/img/collection/scissors/scissors.a253c5df-a850-11ec-8d24-005056c00008.xml\n",
      "Image:D:\\A_TFOD\\Detiction\\Tensorflow\\workspace\\img\\collection\\scissors\\scissors.a888c2d5-a850-11ec-ab6b-005056c00008.jpg -> Annotation:D:/A_TFOD/Detiction/Tensorflow/workspace/img/collection/scissors/scissors.a888c2d5-a850-11ec-ab6b-005056c00008.xml\n",
      "Image:D:\\A_TFOD\\Detiction\\Tensorflow\\workspace\\img\\collection\\scissors\\scissors.aadfb9c9-a850-11ec-82a5-005056c00008.jpg -> Annotation:D:/A_TFOD/Detiction/Tensorflow/workspace/img/collection/scissors/scissors.aadfb9c9-a850-11ec-82a5-005056c00008.xml\n",
      "Image:D:\\A_TFOD\\Detiction\\Tensorflow\\workspace\\img\\collection\\scissors\\scissors.ad12fd54-a850-11ec-9e18-005056c00008.jpg -> Annotation:D:/A_TFOD/Detiction/Tensorflow/workspace/img/collection/scissors/scissors.ad12fd54-a850-11ec-9e18-005056c00008.xml\n",
      "Image:D:\\A_TFOD\\Detiction\\Tensorflow\\workspace\\img\\collection\\scissors\\scissors.b3ff8343-a850-11ec-87bb-005056c00008.jpg -> Annotation:D:/A_TFOD/Detiction/Tensorflow/workspace/img/collection/scissors/scissors.b3ff8343-a850-11ec-87bb-005056c00008.xml\n",
      "Cancel creation.\n",
      "Image:D:\\A_TFOD\\Detiction\\Tensorflow\\workspace\\img\\collection\\scissors\\scissors.bacfe6e3-a850-11ec-8271-005056c00008.jpg -> Annotation:D:/A_TFOD/Detiction/Tensorflow/workspace/img/collection/scissors/scissors.bacfe6e3-a850-11ec-8271-005056c00008.xml\n",
      "Image:D:\\A_TFOD\\Detiction\\Tensorflow\\workspace\\img\\collection\\scissors\\scissors.befbdc5d-a850-11ec-b778-005056c00008.jpg -> Annotation:D:/A_TFOD/Detiction/Tensorflow/workspace/img/collection/scissors/scissors.befbdc5d-a850-11ec-b778-005056c00008.xml\n",
      "Image:D:\\A_TFOD\\Detiction\\Tensorflow\\workspace\\img\\collection\\scissors\\scissors.c0d8e8ae-a850-11ec-b4c9-005056c00008.jpg -> Annotation:D:/A_TFOD/Detiction/Tensorflow/workspace/img/collection/scissors/scissors.c0d8e8ae-a850-11ec-b4c9-005056c00008.xml\n",
      "Image:D:\\A_TFOD\\Detiction\\Tensorflow\\workspace\\img\\collection\\scissors\\scissors.c662846d-a850-11ec-9bf3-005056c00008.jpg -> Annotation:D:/A_TFOD/Detiction/Tensorflow/workspace/img/collection/scissors/scissors.c662846d-a850-11ec-9bf3-005056c00008.xml\n",
      "Image:D:\\A_TFOD\\Detiction\\Tensorflow\\workspace\\img\\collection\\scissors\\scissors.c9218331-a850-11ec-92f9-005056c00008.jpg -> Annotation:D:/A_TFOD/Detiction/Tensorflow/workspace/img/collection/scissors/scissors.c9218331-a850-11ec-92f9-005056c00008.xml\n",
      "Image:D:\\A_TFOD\\Detiction\\Tensorflow\\workspace\\img\\collection\\scissors\\scissors.caaf5b6b-a850-11ec-8f7c-005056c00008.jpg -> Annotation:D:/A_TFOD/Detiction/Tensorflow/workspace/img/collection/scissors/scissors.caaf5b6b-a850-11ec-8f7c-005056c00008.xml\n",
      "Image:D:\\A_TFOD\\Detiction\\Tensorflow\\workspace\\img\\collection\\scissors\\scissors.cc97baa9-a850-11ec-bf1c-005056c00008.jpg -> Annotation:D:/A_TFOD/Detiction/Tensorflow/workspace/img/collection/scissors/scissors.cc97baa9-a850-11ec-bf1c-005056c00008.xml\n",
      "Image:D:\\A_TFOD\\Detiction\\Tensorflow\\workspace\\img\\collection\\scissors\\scissors.ce01a4a7-a850-11ec-85bd-005056c00008.jpg -> Annotation:D:/A_TFOD/Detiction/Tensorflow/workspace/img/collection/scissors/scissors.ce01a4a7-a850-11ec-85bd-005056c00008.xml\n"
     ]
    }
   ],
   "source": [
    "!cd {LABELIMG_PATH} && python labelImg.py"
   ]
  },
  {
   "cell_type": "markdown",
   "metadata": {},
   "source": [
    "# 5. Move them into a Training and Testing Partition"
   ]
  },
  {
   "cell_type": "markdown",
   "metadata": {},
   "source": [
    "# OPTIONAL - 6. Compress them for Colab Training"
   ]
  },
  {
   "cell_type": "code",
   "execution_count": 15,
   "metadata": {},
   "outputs": [],
   "source": [
    "ARCHIVE_PATH = os.path.join('Tensorflow', 'workspace', 'img', 'archive.tar.gz')\n",
    "!tar -czf {ARCHIVE_PATH} {TRAIN_PATH} {TEST_PATH}"
   ]
  }
 ],
 "metadata": {
  "kernelspec": {
   "display_name": "lu",
   "language": "python",
   "name": "lu"
  },
  "language_info": {
   "codemirror_mode": {
    "name": "ipython",
    "version": 3
   },
   "file_extension": ".py",
   "mimetype": "text/x-python",
   "name": "python",
   "nbconvert_exporter": "python",
   "pygments_lexer": "ipython3",
   "version": "3.10.2"
  }
 },
 "nbformat": 4,
 "nbformat_minor": 2
}
